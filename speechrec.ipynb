{
 "cells": [
  {
   "cell_type": "markdown",
   "id": "30c2414e",
   "metadata": {},
   "source": [
    "This file will create a speech recognition, too which someone can talk into their microphone, and the speech will be transcripted into text. "
   ]
  },
  {
   "cell_type": "code",
   "execution_count": 5,
   "id": "b13ec39d",
   "metadata": {},
   "outputs": [
    {
     "data": {
      "application/vnd.jupyter.widget-view+json": {
       "model_id": "ac0ddbeefdcc4877a716a1749666f92b",
       "version_major": 2,
       "version_minor": 0
      },
      "text/plain": [
       "Button(button_style='success', description='Record', icon='microphone', style=ButtonStyle())"
      ]
     },
     "metadata": {},
     "output_type": "display_data"
    }
   ],
   "source": [
    "import ipywidgets as widgets\n",
    "from IPython.display import display\n",
    "\n",
    "#Setting up widget for recording \n",
    "record_button = widgets.Button(\n",
    "    description = 'Record',\n",
    "    disabled = False,\n",
    "    button_style = 'success',\n",
    "    icon = 'microphone'\n",
    ")\n",
    "\n",
    "display(record_button)"
   ]
  },
  {
   "cell_type": "code",
   "execution_count": null,
   "id": "849537eb",
   "metadata": {},
   "outputs": [],
   "source": []
  },
  {
   "cell_type": "code",
   "execution_count": null,
   "id": "0fa89ef7",
   "metadata": {},
   "outputs": [],
   "source": []
  }
 ],
 "metadata": {
  "kernelspec": {
   "display_name": "Python 3 (ipykernel)",
   "language": "python",
   "name": "python3"
  },
  "language_info": {
   "codemirror_mode": {
    "name": "ipython",
    "version": 3
   },
   "file_extension": ".py",
   "mimetype": "text/x-python",
   "name": "python",
   "nbconvert_exporter": "python",
   "pygments_lexer": "ipython3",
   "version": "3.11.4"
  }
 },
 "nbformat": 4,
 "nbformat_minor": 5
}
