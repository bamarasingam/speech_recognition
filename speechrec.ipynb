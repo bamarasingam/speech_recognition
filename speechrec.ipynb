{
 "cells": [
  {
   "cell_type": "markdown",
   "id": "f037fbc4",
   "metadata": {},
   "source": [
    "This file will create a speech recognition, too which someone can talk into their microphone, and the speech will be transcripted into text. "
   ]
  },
  {
   "cell_type": "markdown",
   "id": "38b41e43",
   "metadata": {},
   "source": [
    "Need to perform 2 tasks at the same time; one too continiously record the microphone, and the other too transcribe word too text. Way we do this is through threads (functions which run in the background)"
   ]
  },
  {
   "cell_type": "code",
   "execution_count": 1,
   "id": "b13ec39d",
   "metadata": {},
   "outputs": [
    {
     "data": {
      "application/vnd.jupyter.widget-view+json": {
       "model_id": "03617491de3d4afb8a43206d2e5ec226",
       "version_major": 2,
       "version_minor": 0
      },
      "text/plain": [
       "Button(button_style='success', description='Record', icon='microphone', style=ButtonStyle())"
      ]
     },
     "metadata": {},
     "output_type": "display_data"
    },
    {
     "data": {
      "application/vnd.jupyter.widget-view+json": {
       "model_id": "cabce85e64114d2b9af97ae22360290b",
       "version_major": 2,
       "version_minor": 0
      },
      "text/plain": [
       "Button(button_style='warning', description='Stop', icon='stop', style=ButtonStyle())"
      ]
     },
     "metadata": {},
     "output_type": "display_data"
    },
    {
     "data": {
      "application/vnd.jupyter.widget-view+json": {
       "model_id": "20e00ea7d7c24e9fb811824901dde242",
       "version_major": 2,
       "version_minor": 0
      },
      "text/plain": [
       "Output()"
      ]
     },
     "metadata": {},
     "output_type": "display_data"
    }
   ],
   "source": [
    "import ipywidgets as widgets\n",
    "from IPython.display import display\n",
    "from threading import Thread\n",
    "from queue import Queue\n",
    "\n",
    "messages = Queue()\n",
    "recordings = Queue()\n",
    "\n",
    "#Setting up widget for recording \n",
    "record_button = widgets.Button(\n",
    "    description = 'Record',\n",
    "    disabled = False,\n",
    "    button_style = 'success',\n",
    "    icon = 'microphone'\n",
    ")\n",
    "\n",
    "#Setting up widget for stopping the recording \n",
    "stop_button = widgets.Button(\n",
    "    description = 'Stop',\n",
    "    disabled = False,\n",
    "    button_style = 'warning',\n",
    "    icon = 'stop'\n",
    ")\n",
    "\n",
    "#Widget too show transcript as it's generated\n",
    "output = widgets.Output()\n",
    "\n",
    "#Function for when we start recording\n",
    "def start_recording(data):\n",
    "    messages.put(True)\n",
    "    \n",
    "    with output:\n",
    "        display('Starting...')\n",
    "        record = Thread(target = record_microphone)\n",
    "        record.start()\n",
    "        \n",
    "        transcribe = Thread(target = speech_recognition, args = (output,))\n",
    "        transcribe.start()\n",
    "\n",
    "#Function for when we stop recording\n",
    "def stop_recording(data):\n",
    "    with output:\n",
    "        messages.get()\n",
    "        display('Stopped.')\n",
    "\n",
    "\n",
    "#Linking widgets too functions above\n",
    "record_button.on_click(start_recording)\n",
    "stop_button.on_click(stop_recording)\n",
    "\n",
    "display(record_button, stop_button, output)"
   ]
  },
  {
   "cell_type": "code",
   "execution_count": 4,
   "id": "f0fdaf7e",
   "metadata": {},
   "outputs": [
    {
     "name": "stdout",
     "output_type": "stream",
     "text": [
      "{'index': 0, 'structVersion': 2, 'name': 'BlackHole 2ch', 'hostApi': 0, 'maxInputChannels': 2, 'maxOutputChannels': 2, 'defaultLowInputLatency': 0.01, 'defaultLowOutputLatency': 0.0014512471655328798, 'defaultHighInputLatency': 0.1, 'defaultHighOutputLatency': 0.011609977324263039, 'defaultSampleRate': 44100.0}\n",
      "{'index': 1, 'structVersion': 2, 'name': 'MacBook Pro Microphone', 'hostApi': 0, 'maxInputChannels': 1, 'maxOutputChannels': 0, 'defaultLowInputLatency': 0.03414965986394558, 'defaultLowOutputLatency': 0.01, 'defaultHighInputLatency': 0.04430839002267574, 'defaultHighOutputLatency': 0.1, 'defaultSampleRate': 44100.0}\n",
      "{'index': 2, 'structVersion': 2, 'name': 'MacBook Pro Speakers', 'hostApi': 0, 'maxInputChannels': 0, 'maxOutputChannels': 2, 'defaultLowInputLatency': 0.01, 'defaultLowOutputLatency': 0.009229024943310658, 'defaultHighInputLatency': 0.1, 'defaultHighOutputLatency': 0.019387755102040816, 'defaultSampleRate': 44100.0}\n",
      "{'index': 3, 'structVersion': 2, 'name': 'Microsoft Teams Audio', 'hostApi': 0, 'maxInputChannels': 2, 'maxOutputChannels': 2, 'defaultLowInputLatency': 0.01, 'defaultLowOutputLatency': 0.0013333333333333333, 'defaultHighInputLatency': 0.1, 'defaultHighOutputLatency': 0.010666666666666666, 'defaultSampleRate': 48000.0}\n",
      "{'index': 4, 'structVersion': 2, 'name': 'Screen Record Input', 'hostApi': 0, 'maxInputChannels': 3, 'maxOutputChannels': 2, 'defaultLowInputLatency': 0.01, 'defaultLowOutputLatency': 0.002925170068027211, 'defaultHighInputLatency': 0.1, 'defaultHighOutputLatency': 0.013083900226757369, 'defaultSampleRate': 44100.0}\n",
      "{'index': 5, 'structVersion': 2, 'name': 'Screen Record Output', 'hostApi': 0, 'maxInputChannels': 0, 'maxOutputChannels': 2, 'defaultLowInputLatency': 0.01, 'defaultLowOutputLatency': 0.005396825396825397, 'defaultHighInputLatency': 0.1, 'defaultHighOutputLatency': 0.015555555555555555, 'defaultSampleRate': 44100.0}\n"
     ]
    }
   ],
   "source": [
    "#Need to figure out which of our sound devices we woud like too use\n",
    "import pyaudio\n",
    "\n",
    "#Initalize pyaudio connection too system audio devices\n",
    "p = pyaudio.PyAudio()\n",
    "#Loop through too print and see all of our audio devices\n",
    "for i in range(p.get_device_count()):\n",
    "    print(p.get_device_info_by_index(i))\n",
    "    \n",
    "p.terminate() #Terminate pyaudio connection to audio devices"
   ]
  },
  {
   "cell_type": "code",
   "execution_count": 5,
   "id": "f566a3f3",
   "metadata": {},
   "outputs": [],
   "source": [
    "#Constants too define how our audio will be recorded\n",
    "CHANNELS = 1\n",
    "FRAME_RATE = 16000 #How high quality recording is\n",
    "RECORD_SECONDS = 20 #How many seconds we want too record audio for before transcription\n",
    "AUDIO_FORMAT = pyaudio.paInt16\n",
    "SAMPLE_SIZE = 2\n",
    "\n",
    "def record_microphone(chunk = 1024): #chunk defines how often we read from microphone\n",
    "    p = pyaudio.PyAudio()\n",
    "    \n",
    "    #Going too connect too our microphone and record\n",
    "    stream = p.open(format = AUDIO_FORMAT,\n",
    "                    channels = CHANNELS,\n",
    "                    rate = FRAME_RATE,\n",
    "                    input = True,\n",
    "                    input_device_index = 1,\n",
    "                    frames_per_buffer = chunk)\n",
    "    \n",
    "    frames = [] #Store all of our audio\n",
    "    \n",
    "    while not messages.empty():\n",
    "        data = stream.read(chunk)\n",
    "        frames.append(data)\n",
    "        \n",
    "        #Setting up so every 20 seconds will send our audio data too transcription, then start new collection of audio\n",
    "        if len(frames) >= (FRAME_RATE * RECORD_SECONDS) / chunk:\n",
    "            recordings.put(frames.copy())\n",
    "            frames = [] #Need to empty frames once for next chunk of audio data coming in\n",
    "    \n",
    "    #Need too stop and close connection once we're done recording\n",
    "    stream.stop_stream()\n",
    "    stream.close()\n",
    "    p.terminate()"
   ]
  },
  {
   "cell_type": "code",
   "execution_count": null,
   "id": "548e32a1",
   "metadata": {},
   "outputs": [],
   "source": []
  }
 ],
 "metadata": {
  "kernelspec": {
   "display_name": "Python 3 (ipykernel)",
   "language": "python",
   "name": "python3"
  },
  "language_info": {
   "codemirror_mode": {
    "name": "ipython",
    "version": 3
   },
   "file_extension": ".py",
   "mimetype": "text/x-python",
   "name": "python",
   "nbconvert_exporter": "python",
   "pygments_lexer": "ipython3",
   "version": "3.11.4"
  }
 },
 "nbformat": 4,
 "nbformat_minor": 5
}
